{
  "nbformat": 4,
  "nbformat_minor": 0,
  "metadata": {
    "colab": {
      "provenance": [],
      "authorship_tag": "ABX9TyNJJ1BygC+/MuKwnDE/APsN",
      "include_colab_link": true
    },
    "kernelspec": {
      "name": "python3",
      "display_name": "Python 3"
    },
    "language_info": {
      "name": "python"
    }
  },
  "cells": [
    {
      "cell_type": "markdown",
      "metadata": {
        "id": "view-in-github",
        "colab_type": "text"
      },
      "source": [
        "<a href=\"https://colab.research.google.com/github/2303A52268/STML/blob/main/Stml_Ass_11.ipynb\" target=\"_parent\"><img src=\"https://colab.research.google.com/assets/colab-badge.svg\" alt=\"Open In Colab\"/></a>"
      ]
    },
    {
      "cell_type": "markdown",
      "source": [
        "**Read the Data with Pandas and Find Features and Target\n",
        "Variables**"
      ],
      "metadata": {
        "id": "U8vOHSpL899m"
      }
    },
    {
      "cell_type": "code",
      "source": [
        "import pandas as pd\n",
        "from sklearn.preprocessing import LabelEncoder\n",
        "\n",
        "data = pd.read_csv(\"/content/breast_cancer_survival.csv\")\n",
        "data = data.dropna()\n",
        "\n",
        "X = data.iloc[:, :-1]\n",
        "y = data.iloc[:, -1]\n",
        "\n",
        "for column in X.select_dtypes(include=['object']).columns:\n",
        " le = LabelEncoder()\n",
        " X[column] = le.fit_transform(X[column])\n",
        "\n",
        "print(\"Features:\", X.columns)\n",
        "print(\"Target variable:\", y.name)"
      ],
      "metadata": {
        "colab": {
          "base_uri": "https://localhost:8080/"
        },
        "id": "cb_GVbRX7usc",
        "outputId": "c6d784db-19a8-46e7-ddbb-d6dc93dc75d7"
      },
      "execution_count": 1,
      "outputs": [
        {
          "output_type": "stream",
          "name": "stdout",
          "text": [
            "Features: Index(['Age', 'Gender', 'Protein1', 'Protein2', 'Protein3', 'Protein4',\n",
            "       'Tumour_Stage', 'Histology', 'ER status', 'PR status', 'HER2 status',\n",
            "       'Surgery_type', 'Date_of_Surgery', 'Date_of_Last_Visit'],\n",
            "      dtype='object')\n",
            "Target variable: Patient_Status\n"
          ]
        }
      ]
    },
    {
      "cell_type": "markdown",
      "source": [
        "**Train KNN Model and Find Accuracy with Different Test\n",
        "Sizes**"
      ],
      "metadata": {
        "id": "i92DCYWh9DAA"
      }
    },
    {
      "cell_type": "code",
      "source": [
        "from sklearn.model_selection import train_test_split\n",
        "from sklearn.neighbors import KNeighborsClassifier\n",
        "from sklearn.metrics import accuracy_score\n",
        "from sklearn.preprocessing import StandardScaler\n",
        "scaler = StandardScaler()\n",
        "test_sizes = [20, 25, 30, 35]\n",
        "for test_size in test_sizes:\n",
        " split = test_size / 100.0\n",
        " X_train, X_test, y_train, y_test = train_test_split(X, y, test_size=split, random_state=42)\n",
        " X_train = scaler.fit_transform(X_train)\n",
        " X_test = scaler.transform(X_test)\n",
        " knn = KNeighborsClassifier(n_neighbors=5)\n",
        " knn.fit(X_train, y_train)\n",
        " y_pred = knn.predict(X_test)\n",
        " accuracy = accuracy_score(y_test, y_pred)\n",
        " print(f\"KNN Accuracy with test size {test_size}%: {accuracy:.2f}\")"
      ],
      "metadata": {
        "colab": {
          "base_uri": "https://localhost:8080/"
        },
        "id": "izLJHJQDf1dZ",
        "outputId": "6971f6c5-85bf-43bf-e803-fe3d92f70cb5"
      },
      "execution_count": 5,
      "outputs": [
        {
          "output_type": "stream",
          "name": "stdout",
          "text": [
            "KNN Accuracy with test size 20%: 0.81\n",
            "KNN Accuracy with test size 25%: 0.79\n",
            "KNN Accuracy with test size 30%: 0.79\n",
            "KNN Accuracy with test size 35%: 0.80\n"
          ]
        }
      ]
    },
    {
      "cell_type": "markdown",
      "source": [
        "**Train SVM Model and Find Accuracy with Different Test\n",
        "Sizes**"
      ],
      "metadata": {
        "id": "pF1XAmB49Hc0"
      }
    },
    {
      "cell_type": "code",
      "source": [
        "from sklearn.svm import SVC\n",
        "\n",
        "# Train SVM model and evaluate accuracy with different test sizes\n",
        "for test_size in test_sizes:\n",
        " split = test_size / 100.0\n",
        " X_train, X_test, y_train, y_test = train_test_split(X, y, test_size=split, random_state=42)\n",
        " X_train = scaler.fit_transform(X_train)\n",
        " X_test = scaler.transform(X_test)\n",
        "\n",
        " svm = SVC(kernel='linear', max_iter=1000)\n",
        " svm.fit(X_train, y_train)\n",
        " y_pred = svm.predict(X_test)\n",
        " accuracy = accuracy_score(y_test, y_pred)\n",
        " print(f\"SVM Accuracy with test size {test_size}%: {accuracy:.2f}\")"
      ],
      "metadata": {
        "colab": {
          "base_uri": "https://localhost:8080/"
        },
        "id": "W_S4SQrb8KXj",
        "outputId": "302bf3bc-9495-4abb-be59-f019b9491e30"
      },
      "execution_count": null,
      "outputs": [
        {
          "output_type": "stream",
          "name": "stdout",
          "text": [
            "SVM Accuracy with test size 20%: 0.80\n",
            "SVM Accuracy with test size 25%: 0.79\n",
            "SVM Accuracy with test size 30%: 0.79\n",
            "SVM Accuracy with test size 35%: 0.81\n"
          ]
        }
      ]
    },
    {
      "cell_type": "markdown",
      "source": [
        "**Train Logistic Regression Model and Find Accuracy with\n",
        "Different Test Sizes**"
      ],
      "metadata": {
        "id": "vxYmmnqj9N7-"
      }
    },
    {
      "cell_type": "code",
      "source": [
        "from sklearn.linear_model import LogisticRegression\n",
        "for test_size in test_sizes:\n",
        " split = test_size / 100.0\n",
        " X_train, X_test, y_train, y_test = train_test_split(X, y, test_size=split, random_state=42)\n",
        " X_train = scaler.fit_transform(X_train)\n",
        " X_test = scaler.transform(X_test)\n",
        "\n",
        " log_reg = LogisticRegression(max_iter=1000)\n",
        " log_reg.fit(X_train, y_train)\n",
        " y_pred = log_reg.predict(X_test)\n",
        " accuracy = accuracy_score(y_test, y_pred)\n",
        " print(f\"Logistic Regression Accuracy with test size {test_size}%: {accuracy:.2f}\")"
      ],
      "metadata": {
        "colab": {
          "base_uri": "https://localhost:8080/"
        },
        "id": "FM_oEdsV8aJZ",
        "outputId": "eef2ba3c-29cd-4cd1-e77e-14f1a87fb8b3"
      },
      "execution_count": null,
      "outputs": [
        {
          "output_type": "stream",
          "name": "stdout",
          "text": [
            "Logistic Regression Accuracy with test size 20%: 0.78\n",
            "Logistic Regression Accuracy with test size 25%: 0.78\n",
            "Logistic Regression Accuracy with test size 30%: 0.78\n",
            "Logistic Regression Accuracy with test size 35%: 0.81\n"
          ]
        }
      ]
    },
    {
      "cell_type": "markdown",
      "source": [
        "**Dimensionality Reduction with PCA and Model Training**"
      ],
      "metadata": {
        "id": "g1ZW_15L9T81"
      }
    },
    {
      "cell_type": "code",
      "source": [
        "from sklearn.decomposition import PCA\n",
        "\n",
        "pca = PCA(n_components=5)\n",
        "X_reduced = pca.fit_transform(X)\n",
        "\n",
        "for test_size in test_sizes:\n",
        " split = test_size / 100.0\n",
        "\n",
        " X_train, X_test, y_train, y_test = train_test_split(X_reduced, y, test_size=split,\n",
        "random_state=42)\n",
        "\n",
        " knn.fit(X_train, y_train)\n",
        " y_pred = knn.predict(X_test)\n",
        " accuracy = accuracy_score(y_test, y_pred)\n",
        " print(f\"KNN with PCA Accuracy (test size {test_size}%): {accuracy:.2f}\")\n",
        "\n",
        " svm.fit(X_train, y_train)\n",
        " y_pred = svm.predict(X_test)\n",
        " accuracy = accuracy_score(y_test, y_pred)\n",
        " print(f\"SVM with PCA Accuracy (test size {test_size}%): {accuracy:.2f}\")\n",
        "\n",
        " log_reg.fit(X_train, y_train)\n",
        " y_pred = log_reg.predict(X_test)\n",
        " accuracy = accuracy_score(y_test, y_pred)\n",
        " print(f\"Logistic Regression with PCA Accuracy (test size {test_size}%): {accuracy:.2f}\")"
      ],
      "metadata": {
        "colab": {
          "base_uri": "https://localhost:8080/"
        },
        "id": "qOnakkMr8lMz",
        "outputId": "0e0662f0-be2f-47d3-e3c6-766b4621aa8c"
      },
      "execution_count": null,
      "outputs": [
        {
          "output_type": "stream",
          "name": "stdout",
          "text": [
            "KNN with PCA Accuracy (test size 20%): 0.81\n",
            "SVM with PCA Accuracy (test size 20%): 0.66\n",
            "Logistic Regression with PCA Accuracy (test size 20%): 0.80\n",
            "KNN with PCA Accuracy (test size 25%): 0.82\n",
            "SVM with PCA Accuracy (test size 25%): 0.56\n",
            "Logistic Regression with PCA Accuracy (test size 25%): 0.79\n",
            "KNN with PCA Accuracy (test size 30%): 0.81\n",
            "SVM with PCA Accuracy (test size 30%): 0.41\n",
            "Logistic Regression with PCA Accuracy (test size 30%): 0.79\n",
            "KNN with PCA Accuracy (test size 35%): 0.82\n",
            "SVM with PCA Accuracy (test size 35%): 0.34\n",
            "Logistic Regression with PCA Accuracy (test size 35%): 0.81\n"
          ]
        },
        {
          "output_type": "stream",
          "name": "stderr",
          "text": [
            "/usr/local/lib/python3.10/dist-packages/sklearn/svm/_base.py:297: ConvergenceWarning: Solver terminated early (max_iter=1000).  Consider pre-processing your data with StandardScaler or MinMaxScaler.\n",
            "  warnings.warn(\n",
            "/usr/local/lib/python3.10/dist-packages/sklearn/svm/_base.py:297: ConvergenceWarning: Solver terminated early (max_iter=1000).  Consider pre-processing your data with StandardScaler or MinMaxScaler.\n",
            "  warnings.warn(\n",
            "/usr/local/lib/python3.10/dist-packages/sklearn/svm/_base.py:297: ConvergenceWarning: Solver terminated early (max_iter=1000).  Consider pre-processing your data with StandardScaler or MinMaxScaler.\n",
            "  warnings.warn(\n",
            "/usr/local/lib/python3.10/dist-packages/sklearn/svm/_base.py:297: ConvergenceWarning: Solver terminated early (max_iter=1000).  Consider pre-processing your data with StandardScaler or MinMaxScaler.\n",
            "  warnings.warn(\n"
          ]
        }
      ]
    }
  ]
}